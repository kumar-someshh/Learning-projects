{
  "nbformat": 4,
  "nbformat_minor": 0,
  "metadata": {
    "colab": {
      "provenance": []
    },
    "kernelspec": {
      "name": "python3",
      "display_name": "Python 3"
    },
    "language_info": {
      "name": "python"
    }
  },
  "cells": [
    {
      "cell_type": "markdown",
      "metadata": {
        "id": "kqB21QOgMg-G"
      },
      "source": [
        "Importing the Dependencies"
      ]
    },
    {
      "cell_type": "code",
      "metadata": {
        "id": "rALI06-oHusw"
      },
      "source": [
        "import numpy as np\n",
        "import pandas as pd\n",
        "from sklearn.model_selection import train_test_split\n",
        "from sklearn.feature_extraction.text import TfidfVectorizer\n",
        "from sklearn.linear_model import LogisticRegression\n",
        "from sklearn.metrics import accuracy_score"
      ],
      "execution_count": 49,
      "outputs": []
    },
    {
      "cell_type": "markdown",
      "metadata": {
        "id": "YyKe9o2ONeFv"
      },
      "source": [
        "Data Collection & Pre-Processing"
      ]
    },
    {
      "cell_type": "code",
      "metadata": {
        "id": "CpStHH8KNcYB"
      },
      "source": [
        "# loading the data from csv file to a pandas Dataframe\n",
        "data = pd.read_csv('/content/mail_data.csv')\n",
        "mail_data = data.copy()"
      ],
      "execution_count": 50,
      "outputs": []
    },
    {
      "cell_type": "code",
      "metadata": {
        "colab": {
          "base_uri": "https://localhost:8080/",
          "height": 206
        },
        "id": "pdn-7VE2NxsZ",
        "outputId": "3e862c13-fb0a-40ba-d24b-bd83a4521c18"
      },
      "source": [
        "mail_data.head()"
      ],
      "execution_count": 51,
      "outputs": [
        {
          "output_type": "execute_result",
          "data": {
            "text/plain": [
              "  Category                                            Message\n",
              "0      ham  Go until jurong point, crazy.. Available only ...\n",
              "1      ham                      Ok lar... Joking wif u oni...\n",
              "2     spam  Free entry in 2 a wkly comp to win FA Cup fina...\n",
              "3      ham  U dun say so early hor... U c already then say...\n",
              "4      ham  Nah I don't think he goes to usf, he lives aro..."
            ],
            "text/html": [
              "\n",
              "  <div id=\"df-636392a2-2520-40fd-87a6-529b7c46c487\" class=\"colab-df-container\">\n",
              "    <div>\n",
              "<style scoped>\n",
              "    .dataframe tbody tr th:only-of-type {\n",
              "        vertical-align: middle;\n",
              "    }\n",
              "\n",
              "    .dataframe tbody tr th {\n",
              "        vertical-align: top;\n",
              "    }\n",
              "\n",
              "    .dataframe thead th {\n",
              "        text-align: right;\n",
              "    }\n",
              "</style>\n",
              "<table border=\"1\" class=\"dataframe\">\n",
              "  <thead>\n",
              "    <tr style=\"text-align: right;\">\n",
              "      <th></th>\n",
              "      <th>Category</th>\n",
              "      <th>Message</th>\n",
              "    </tr>\n",
              "  </thead>\n",
              "  <tbody>\n",
              "    <tr>\n",
              "      <th>0</th>\n",
              "      <td>ham</td>\n",
              "      <td>Go until jurong point, crazy.. Available only ...</td>\n",
              "    </tr>\n",
              "    <tr>\n",
              "      <th>1</th>\n",
              "      <td>ham</td>\n",
              "      <td>Ok lar... Joking wif u oni...</td>\n",
              "    </tr>\n",
              "    <tr>\n",
              "      <th>2</th>\n",
              "      <td>spam</td>\n",
              "      <td>Free entry in 2 a wkly comp to win FA Cup fina...</td>\n",
              "    </tr>\n",
              "    <tr>\n",
              "      <th>3</th>\n",
              "      <td>ham</td>\n",
              "      <td>U dun say so early hor... U c already then say...</td>\n",
              "    </tr>\n",
              "    <tr>\n",
              "      <th>4</th>\n",
              "      <td>ham</td>\n",
              "      <td>Nah I don't think he goes to usf, he lives aro...</td>\n",
              "    </tr>\n",
              "  </tbody>\n",
              "</table>\n",
              "</div>\n",
              "    <div class=\"colab-df-buttons\">\n",
              "\n",
              "  <div class=\"colab-df-container\">\n",
              "    <button class=\"colab-df-convert\" onclick=\"convertToInteractive('df-636392a2-2520-40fd-87a6-529b7c46c487')\"\n",
              "            title=\"Convert this dataframe to an interactive table.\"\n",
              "            style=\"display:none;\">\n",
              "\n",
              "  <svg xmlns=\"http://www.w3.org/2000/svg\" height=\"24px\" viewBox=\"0 -960 960 960\">\n",
              "    <path d=\"M120-120v-720h720v720H120Zm60-500h600v-160H180v160Zm220 220h160v-160H400v160Zm0 220h160v-160H400v160ZM180-400h160v-160H180v160Zm440 0h160v-160H620v160ZM180-180h160v-160H180v160Zm440 0h160v-160H620v160Z\"/>\n",
              "  </svg>\n",
              "    </button>\n",
              "\n",
              "  <style>\n",
              "    .colab-df-container {\n",
              "      display:flex;\n",
              "      gap: 12px;\n",
              "    }\n",
              "\n",
              "    .colab-df-convert {\n",
              "      background-color: #E8F0FE;\n",
              "      border: none;\n",
              "      border-radius: 50%;\n",
              "      cursor: pointer;\n",
              "      display: none;\n",
              "      fill: #1967D2;\n",
              "      height: 32px;\n",
              "      padding: 0 0 0 0;\n",
              "      width: 32px;\n",
              "    }\n",
              "\n",
              "    .colab-df-convert:hover {\n",
              "      background-color: #E2EBFA;\n",
              "      box-shadow: 0px 1px 2px rgba(60, 64, 67, 0.3), 0px 1px 3px 1px rgba(60, 64, 67, 0.15);\n",
              "      fill: #174EA6;\n",
              "    }\n",
              "\n",
              "    .colab-df-buttons div {\n",
              "      margin-bottom: 4px;\n",
              "    }\n",
              "\n",
              "    [theme=dark] .colab-df-convert {\n",
              "      background-color: #3B4455;\n",
              "      fill: #D2E3FC;\n",
              "    }\n",
              "\n",
              "    [theme=dark] .colab-df-convert:hover {\n",
              "      background-color: #434B5C;\n",
              "      box-shadow: 0px 1px 3px 1px rgba(0, 0, 0, 0.15);\n",
              "      filter: drop-shadow(0px 1px 2px rgba(0, 0, 0, 0.3));\n",
              "      fill: #FFFFFF;\n",
              "    }\n",
              "  </style>\n",
              "\n",
              "    <script>\n",
              "      const buttonEl =\n",
              "        document.querySelector('#df-636392a2-2520-40fd-87a6-529b7c46c487 button.colab-df-convert');\n",
              "      buttonEl.style.display =\n",
              "        google.colab.kernel.accessAllowed ? 'block' : 'none';\n",
              "\n",
              "      async function convertToInteractive(key) {\n",
              "        const element = document.querySelector('#df-636392a2-2520-40fd-87a6-529b7c46c487');\n",
              "        const dataTable =\n",
              "          await google.colab.kernel.invokeFunction('convertToInteractive',\n",
              "                                                    [key], {});\n",
              "        if (!dataTable) return;\n",
              "\n",
              "        const docLinkHtml = 'Like what you see? Visit the ' +\n",
              "          '<a target=\"_blank\" href=https://colab.research.google.com/notebooks/data_table.ipynb>data table notebook</a>'\n",
              "          + ' to learn more about interactive tables.';\n",
              "        element.innerHTML = '';\n",
              "        dataTable['output_type'] = 'display_data';\n",
              "        await google.colab.output.renderOutput(dataTable, element);\n",
              "        const docLink = document.createElement('div');\n",
              "        docLink.innerHTML = docLinkHtml;\n",
              "        element.appendChild(docLink);\n",
              "      }\n",
              "    </script>\n",
              "  </div>\n",
              "\n",
              "\n",
              "<div id=\"df-3805e062-f70f-42c5-9ee2-a237fb6e43db\">\n",
              "  <button class=\"colab-df-quickchart\" onclick=\"quickchart('df-3805e062-f70f-42c5-9ee2-a237fb6e43db')\"\n",
              "            title=\"Suggest charts\"\n",
              "            style=\"display:none;\">\n",
              "\n",
              "<svg xmlns=\"http://www.w3.org/2000/svg\" height=\"24px\"viewBox=\"0 0 24 24\"\n",
              "     width=\"24px\">\n",
              "    <g>\n",
              "        <path d=\"M19 3H5c-1.1 0-2 .9-2 2v14c0 1.1.9 2 2 2h14c1.1 0 2-.9 2-2V5c0-1.1-.9-2-2-2zM9 17H7v-7h2v7zm4 0h-2V7h2v10zm4 0h-2v-4h2v4z\"/>\n",
              "    </g>\n",
              "</svg>\n",
              "  </button>\n",
              "\n",
              "<style>\n",
              "  .colab-df-quickchart {\n",
              "      --bg-color: #E8F0FE;\n",
              "      --fill-color: #1967D2;\n",
              "      --hover-bg-color: #E2EBFA;\n",
              "      --hover-fill-color: #174EA6;\n",
              "      --disabled-fill-color: #AAA;\n",
              "      --disabled-bg-color: #DDD;\n",
              "  }\n",
              "\n",
              "  [theme=dark] .colab-df-quickchart {\n",
              "      --bg-color: #3B4455;\n",
              "      --fill-color: #D2E3FC;\n",
              "      --hover-bg-color: #434B5C;\n",
              "      --hover-fill-color: #FFFFFF;\n",
              "      --disabled-bg-color: #3B4455;\n",
              "      --disabled-fill-color: #666;\n",
              "  }\n",
              "\n",
              "  .colab-df-quickchart {\n",
              "    background-color: var(--bg-color);\n",
              "    border: none;\n",
              "    border-radius: 50%;\n",
              "    cursor: pointer;\n",
              "    display: none;\n",
              "    fill: var(--fill-color);\n",
              "    height: 32px;\n",
              "    padding: 0;\n",
              "    width: 32px;\n",
              "  }\n",
              "\n",
              "  .colab-df-quickchart:hover {\n",
              "    background-color: var(--hover-bg-color);\n",
              "    box-shadow: 0 1px 2px rgba(60, 64, 67, 0.3), 0 1px 3px 1px rgba(60, 64, 67, 0.15);\n",
              "    fill: var(--button-hover-fill-color);\n",
              "  }\n",
              "\n",
              "  .colab-df-quickchart-complete:disabled,\n",
              "  .colab-df-quickchart-complete:disabled:hover {\n",
              "    background-color: var(--disabled-bg-color);\n",
              "    fill: var(--disabled-fill-color);\n",
              "    box-shadow: none;\n",
              "  }\n",
              "\n",
              "  .colab-df-spinner {\n",
              "    border: 2px solid var(--fill-color);\n",
              "    border-color: transparent;\n",
              "    border-bottom-color: var(--fill-color);\n",
              "    animation:\n",
              "      spin 1s steps(1) infinite;\n",
              "  }\n",
              "\n",
              "  @keyframes spin {\n",
              "    0% {\n",
              "      border-color: transparent;\n",
              "      border-bottom-color: var(--fill-color);\n",
              "      border-left-color: var(--fill-color);\n",
              "    }\n",
              "    20% {\n",
              "      border-color: transparent;\n",
              "      border-left-color: var(--fill-color);\n",
              "      border-top-color: var(--fill-color);\n",
              "    }\n",
              "    30% {\n",
              "      border-color: transparent;\n",
              "      border-left-color: var(--fill-color);\n",
              "      border-top-color: var(--fill-color);\n",
              "      border-right-color: var(--fill-color);\n",
              "    }\n",
              "    40% {\n",
              "      border-color: transparent;\n",
              "      border-right-color: var(--fill-color);\n",
              "      border-top-color: var(--fill-color);\n",
              "    }\n",
              "    60% {\n",
              "      border-color: transparent;\n",
              "      border-right-color: var(--fill-color);\n",
              "    }\n",
              "    80% {\n",
              "      border-color: transparent;\n",
              "      border-right-color: var(--fill-color);\n",
              "      border-bottom-color: var(--fill-color);\n",
              "    }\n",
              "    90% {\n",
              "      border-color: transparent;\n",
              "      border-bottom-color: var(--fill-color);\n",
              "    }\n",
              "  }\n",
              "</style>\n",
              "\n",
              "  <script>\n",
              "    async function quickchart(key) {\n",
              "      const quickchartButtonEl =\n",
              "        document.querySelector('#' + key + ' button');\n",
              "      quickchartButtonEl.disabled = true;  // To prevent multiple clicks.\n",
              "      quickchartButtonEl.classList.add('colab-df-spinner');\n",
              "      try {\n",
              "        const charts = await google.colab.kernel.invokeFunction(\n",
              "            'suggestCharts', [key], {});\n",
              "      } catch (error) {\n",
              "        console.error('Error during call to suggestCharts:', error);\n",
              "      }\n",
              "      quickchartButtonEl.classList.remove('colab-df-spinner');\n",
              "      quickchartButtonEl.classList.add('colab-df-quickchart-complete');\n",
              "    }\n",
              "    (() => {\n",
              "      let quickchartButtonEl =\n",
              "        document.querySelector('#df-3805e062-f70f-42c5-9ee2-a237fb6e43db button');\n",
              "      quickchartButtonEl.style.display =\n",
              "        google.colab.kernel.accessAllowed ? 'block' : 'none';\n",
              "    })();\n",
              "  </script>\n",
              "</div>\n",
              "\n",
              "    </div>\n",
              "  </div>\n"
            ],
            "application/vnd.google.colaboratory.intrinsic+json": {
              "type": "dataframe",
              "variable_name": "mail_data",
              "summary": "{\n  \"name\": \"mail_data\",\n  \"rows\": 5572,\n  \"fields\": [\n    {\n      \"column\": \"Category\",\n      \"properties\": {\n        \"dtype\": \"category\",\n        \"num_unique_values\": 2,\n        \"samples\": [\n          \"spam\",\n          \"ham\"\n        ],\n        \"semantic_type\": \"\",\n        \"description\": \"\"\n      }\n    },\n    {\n      \"column\": \"Message\",\n      \"properties\": {\n        \"dtype\": \"string\",\n        \"num_unique_values\": 5157,\n        \"samples\": [\n          \"Also sir, i sent you an email about how to log into the usc payment portal. I.ll send you another message that should explain how things are back home. Have a great weekend.\",\n          \"Are you free now?can i call now?\"\n        ],\n        \"semantic_type\": \"\",\n        \"description\": \"\"\n      }\n    }\n  ]\n}"
            }
          },
          "metadata": {},
          "execution_count": 51
        }
      ]
    },
    {
      "cell_type": "code",
      "metadata": {
        "id": "yhakjIE1N011"
      },
      "source": [
        "# replace the null values with a null string\n",
        "mail_data = mail_data.where((pd.notnull(mail_data)),'')"
      ],
      "execution_count": 52,
      "outputs": []
    },
    {
      "cell_type": "code",
      "metadata": {
        "colab": {
          "base_uri": "https://localhost:8080/"
        },
        "id": "IbK82N2gOdar",
        "outputId": "486aaf49-d758-44a0-9b12-2e9bb377b867"
      },
      "source": [
        "mail_data.info()"
      ],
      "execution_count": 53,
      "outputs": [
        {
          "output_type": "stream",
          "name": "stdout",
          "text": [
            "<class 'pandas.core.frame.DataFrame'>\n",
            "RangeIndex: 5572 entries, 0 to 5571\n",
            "Data columns (total 2 columns):\n",
            " #   Column    Non-Null Count  Dtype \n",
            "---  ------    --------------  ----- \n",
            " 0   Category  5572 non-null   object\n",
            " 1   Message   5572 non-null   object\n",
            "dtypes: object(2)\n",
            "memory usage: 87.2+ KB\n"
          ]
        }
      ]
    },
    {
      "cell_type": "markdown",
      "metadata": {
        "id": "vhR4U3ATPBdk"
      },
      "source": [
        "Label Encoding"
      ]
    },
    {
      "cell_type": "code",
      "metadata": {
        "id": "9EW7QSgeOt4p"
      },
      "source": [
        "# label spam mail as 0;  ham mail as 1;\n",
        "\n",
        "mail_data.loc[mail_data['Category'] == 'spam', 'Category',] = 0\n",
        "mail_data.loc[mail_data['Category'] == 'ham', 'Category',] = 1"
      ],
      "execution_count": 54,
      "outputs": []
    },
    {
      "cell_type": "markdown",
      "metadata": {
        "id": "uxZK1fWwPwII"
      },
      "source": [
        "spam  -  0\n",
        "\n",
        "ham  -  1"
      ]
    },
    {
      "cell_type": "code",
      "metadata": {
        "id": "t8Rt-FaNPtPE"
      },
      "source": [
        "# separating the data as texts and label\n",
        "\n",
        "X = mail_data['Message']\n",
        "\n",
        "Y = mail_data['Category']"
      ],
      "execution_count": 55,
      "outputs": []
    },
    {
      "cell_type": "code",
      "metadata": {
        "colab": {
          "base_uri": "https://localhost:8080/"
        },
        "id": "QnQeUBGtQPP7",
        "outputId": "8b0fadd0-e815-40d6-ff4a-2ef7e4d354d9"
      },
      "source": [
        "print(X)"
      ],
      "execution_count": 56,
      "outputs": [
        {
          "output_type": "stream",
          "name": "stdout",
          "text": [
            "0       Go until jurong point, crazy.. Available only ...\n",
            "1                           Ok lar... Joking wif u oni...\n",
            "2       Free entry in 2 a wkly comp to win FA Cup fina...\n",
            "3       U dun say so early hor... U c already then say...\n",
            "4       Nah I don't think he goes to usf, he lives aro...\n",
            "                              ...                        \n",
            "5567    This is the 2nd time we have tried 2 contact u...\n",
            "5568                 Will ü b going to esplanade fr home?\n",
            "5569    Pity, * was in mood for that. So...any other s...\n",
            "5570    The guy did some bitching but I acted like i'd...\n",
            "5571                           Rofl. Its true to its name\n",
            "Name: Message, Length: 5572, dtype: object\n"
          ]
        }
      ]
    },
    {
      "cell_type": "code",
      "metadata": {
        "colab": {
          "base_uri": "https://localhost:8080/"
        },
        "id": "cuWDNy5KQQjY",
        "outputId": "257f4119-3af6-431a-f6ab-5af0df4e064e"
      },
      "source": [
        "print(Y)"
      ],
      "execution_count": 57,
      "outputs": [
        {
          "output_type": "stream",
          "name": "stdout",
          "text": [
            "0       1\n",
            "1       1\n",
            "2       0\n",
            "3       1\n",
            "4       1\n",
            "       ..\n",
            "5567    0\n",
            "5568    1\n",
            "5569    1\n",
            "5570    1\n",
            "5571    1\n",
            "Name: Category, Length: 5572, dtype: object\n"
          ]
        }
      ]
    },
    {
      "cell_type": "markdown",
      "metadata": {
        "id": "jvHyqdH8QZPH"
      },
      "source": [
        "Splitting the data into training data & test data"
      ]
    },
    {
      "cell_type": "code",
      "metadata": {
        "id": "RO2GmbSNQSQH"
      },
      "source": [
        "x_train, x_test, y_train, y_test = train_test_split(X, Y, test_size=0.2, random_state=42)"
      ],
      "execution_count": 58,
      "outputs": []
    },
    {
      "cell_type": "code",
      "metadata": {
        "colab": {
          "base_uri": "https://localhost:8080/"
        },
        "id": "tS2c7A4NRa46",
        "outputId": "b3ced6f4-0acb-45d0-c1a3-78895404edac"
      },
      "source": [
        "print(x_train.shape)\n",
        "print(x_test.shape)\n",
        "print(y_train.shape)\n",
        "print(y_test.shape)"
      ],
      "execution_count": 59,
      "outputs": [
        {
          "output_type": "stream",
          "name": "stdout",
          "text": [
            "(4457,)\n",
            "(1115,)\n",
            "(4457,)\n",
            "(1115,)\n"
          ]
        }
      ]
    },
    {
      "cell_type": "markdown",
      "metadata": {
        "id": "wYQpiACGSBYM"
      },
      "source": [
        "Feature Extraction"
      ]
    },
    {
      "cell_type": "markdown",
      "source": [
        "**Understanding TfidfVectorizer:**\n",
        "\n",
        "The key concept behind TfidfVectorizer is tf-idf (Term Frequency-Inverse Document Frequency).\n",
        "\n",
        "Term Frequency (tf): How often a word appears in a specific email.\n",
        "\n",
        "Inverse Document Frequency (idf): How common or rare a word is across all emails. A common word (e.g., \"the\") will have a low idf, while a rare word (e.g., \"unsubscribe\") might have a high idf.\n",
        "\n",
        "TfidfVectorizer calculates tf-idf for each word-document pair and creates a sparse matrix where each row represents an email and each column represents a word in the vocabulary. The values in the matrix represent the tf-idf scores.\n",
        "\n",
        "**Understanding Logistic Regression**\n",
        "\n",
        "At the heart of logistic regression lies the ``logistic function``, also known as the sigmoid function. This S-shaped curve maps any real number to a value between 0 and 1, perfectly suited for representing probabilities.\n",
        "\n",
        "* Independent and Dependent Variables: Logistic regression takes two types of variables as input:\n",
        "Independent variables: These are the features extracted from your data that might influence the outcome (e.g., tf-idf features from emails).\n",
        "Dependent variable: This is the target variable you're trying to predict, which in your case is the binary label indicating spam (1) or not spam (0).\n",
        "\n",
        "* Linear Combination: The model creates a linear combination of the independent variables using weights (coefficients) learned during training. Think of it as a weighted sum of your features.\n",
        "\n",
        "* Logistic Function: The linear combination is then passed through the logistic function, transforming the output into a value between 0 and 1, representing the predicted probability of an email being spam.\n",
        "\n",
        "To make a final classification decision (spam or not spam), a threshold value (typically 0.5) is often used."
      ],
      "metadata": {
        "id": "2mI0kKdMry9z"
      }
    },
    {
      "cell_type": "code",
      "metadata": {
        "id": "nLs847nSRibm"
      },
      "source": [
        "# transform the text data to feature vectors that can be used as input to the Logistic regression\n",
        "\n",
        "feature_extraction = TfidfVectorizer(min_df = 1, stop_words='english', lowercase=True)\n",
        "\n",
        "x_train_features = feature_extraction.fit_transform(x_train)\n",
        "x_test_features = feature_extraction.transform(x_test)\n",
        "\n",
        "# convert Y_train and Y_test values as integers\n",
        "\n",
        "y_train = y_train.astype('int')\n",
        "y_test = y_test.astype('int')"
      ],
      "execution_count": 60,
      "outputs": []
    },
    {
      "cell_type": "code",
      "metadata": {
        "id": "dBMAcw9RUkUY",
        "colab": {
          "base_uri": "https://localhost:8080/"
        },
        "outputId": "25c11506-5f45-437e-b322-f47d0087b79e"
      },
      "source": [
        "print(x_train)"
      ],
      "execution_count": 61,
      "outputs": [
        {
          "output_type": "stream",
          "name": "stdout",
          "text": [
            "1978    Reply to win £100 weekly! Where will the 2006 ...\n",
            "3989    Hello. Sort of out in town already. That . So ...\n",
            "3935     How come guoyang go n tell her? Then u told her?\n",
            "4078    Hey sathya till now we dint meet not even a si...\n",
            "4086    Orange brings you ringtones from all time Char...\n",
            "                              ...                        \n",
            "3772    Hi, wlcome back, did wonder if you got eaten b...\n",
            "5191                               Sorry, I'll call later\n",
            "5226        Prabha..i'm soryda..realy..frm heart i'm sory\n",
            "5390                           Nt joking seriously i told\n",
            "860               Did he just say somebody is named tampa\n",
            "Name: Message, Length: 4457, dtype: object\n"
          ]
        }
      ]
    },
    {
      "cell_type": "code",
      "metadata": {
        "id": "1NFuGogZUpt0",
        "colab": {
          "base_uri": "https://localhost:8080/"
        },
        "outputId": "018a3329-2b98-4988-b4c9-31e2dbaef940"
      },
      "source": [
        "print(x_train_features)"
      ],
      "execution_count": 62,
      "outputs": [
        {
          "output_type": "stream",
          "name": "stdout",
          "text": [
            "  (0, 5818)\t0.22682143517864364\n",
            "  (0, 2497)\t0.2442158912653505\n",
            "  (0, 694)\t0.3171299579602537\n",
            "  (0, 6264)\t0.1898892037332199\n",
            "  (0, 5800)\t0.17558937755823417\n",
            "  (0, 3262)\t0.33791755486732394\n",
            "  (0, 2049)\t0.3034375179183143\n",
            "  (0, 7300)\t0.24288153842988894\n",
            "  (0, 2724)\t0.3544175987866074\n",
            "  (0, 354)\t0.3544175987866074\n",
            "  (0, 7162)\t0.2550284465664535\n",
            "  (0, 258)\t0.2379428657041507\n",
            "  (0, 7222)\t0.2173884735352799\n",
            "  (0, 5512)\t0.1898892037332199\n",
            "  (1, 2555)\t0.3840709491751004\n",
            "  (1, 3804)\t0.1902902346515268\n",
            "  (1, 3932)\t0.24325511357721427\n",
            "  (1, 4509)\t0.4028245991060671\n",
            "  (1, 2440)\t0.33870544648398715\n",
            "  (1, 3333)\t0.20665394084233096\n",
            "  (1, 5650)\t0.360444144470318\n",
            "  (1, 2335)\t0.2162321275166079\n",
            "  (1, 6738)\t0.28986069568918\n",
            "  (1, 6109)\t0.3239762634465801\n",
            "  (1, 3267)\t0.2678713077029217\n",
            "  :\t:\n",
            "  (4452, 2438)\t0.4574160733416501\n",
            "  (4452, 7280)\t0.3968991650168732\n",
            "  (4452, 3978)\t0.4574160733416501\n",
            "  (4452, 3290)\t0.26370969643076225\n",
            "  (4452, 3084)\t0.22948428918295163\n",
            "  (4452, 2236)\t0.2676662072392096\n",
            "  (4453, 3874)\t0.6064947019588056\n",
            "  (4453, 4004)\t0.5244851817485773\n",
            "  (4453, 6108)\t0.5975612693457145\n",
            "  (4454, 6113)\t0.4465347909835087\n",
            "  (4454, 6114)\t0.4465347909835087\n",
            "  (4454, 5149)\t0.43410473161397095\n",
            "  (4454, 5409)\t0.4079234999314281\n",
            "  (4454, 3249)\t0.3182708584577292\n",
            "  (4454, 2893)\t0.38087861810984514\n",
            "  (4455, 5815)\t0.5332274226200294\n",
            "  (4455, 3691)\t0.5541750775894743\n",
            "  (4455, 4660)\t0.4924788339394118\n",
            "  (4455, 6686)\t0.40745931976870786\n",
            "  (4456, 4518)\t0.5364209818026567\n",
            "  (4456, 6078)\t0.46545159250664164\n",
            "  (4456, 6467)\t0.48168628392630153\n",
            "  (4456, 5719)\t0.3276287995831882\n",
            "  (4456, 2236)\t0.31389751705425334\n",
            "  (4456, 3720)\t0.24023610815826446\n"
          ]
        }
      ]
    },
    {
      "cell_type": "markdown",
      "metadata": {
        "id": "q86FvELbU_SV"
      },
      "source": [
        "Training the Model"
      ]
    },
    {
      "cell_type": "markdown",
      "metadata": {
        "id": "hV6BAIZQVBbo"
      },
      "source": [
        "Logistic Regression"
      ]
    },
    {
      "cell_type": "code",
      "metadata": {
        "id": "1JeAOwzpUv0V"
      },
      "source": [
        "model = LogisticRegression()"
      ],
      "execution_count": 63,
      "outputs": []
    },
    {
      "cell_type": "code",
      "metadata": {
        "id": "gWGRHWAPVI_z"
      },
      "source": [
        "# training the Logistic Regression model with the training data\n",
        "model = model.fit(x_train_features, y_train)"
      ],
      "execution_count": 64,
      "outputs": []
    },
    {
      "cell_type": "markdown",
      "metadata": {
        "id": "wZ01fa8dVeL5"
      },
      "source": [
        "Evaluating the trained model"
      ]
    },
    {
      "cell_type": "code",
      "metadata": {
        "id": "ExiF2kKxVYtC"
      },
      "source": [
        "# prediction on training data\n",
        "\n",
        "prediction_on_training_data = model.predict(x_train_features)\n",
        "accuracy_on_training_data = accuracy_score(y_train, prediction_on_training_data)"
      ],
      "execution_count": 65,
      "outputs": []
    },
    {
      "cell_type": "code",
      "metadata": {
        "colab": {
          "base_uri": "https://localhost:8080/"
        },
        "id": "o7t4DI5UWCkB",
        "outputId": "b54eba12-3e45-4e98-c014-ccfe515176a4"
      },
      "source": [
        "print('Accuracy on training data : ', accuracy_on_training_data)"
      ],
      "execution_count": 66,
      "outputs": [
        {
          "output_type": "stream",
          "name": "stdout",
          "text": [
            "Accuracy on training data :  0.9661207089970832\n"
          ]
        }
      ]
    },
    {
      "cell_type": "code",
      "metadata": {
        "id": "cTin5rXTWKg3"
      },
      "source": [
        "# prediction on test data\n",
        "\n",
        "prediction_on_test_data = model.predict(x_test_features)\n",
        "accuracy_on_test_data = accuracy_score(y_test, prediction_on_test_data)"
      ],
      "execution_count": 67,
      "outputs": []
    },
    {
      "cell_type": "code",
      "metadata": {
        "colab": {
          "base_uri": "https://localhost:8080/"
        },
        "id": "4gvoMK4OWnJY",
        "outputId": "c0f37ac0-2217-40c2-f791-3dcce4f25434"
      },
      "source": [
        "print('Accuracy on test data : ', accuracy_on_test_data)"
      ],
      "execution_count": 68,
      "outputs": [
        {
          "output_type": "stream",
          "name": "stdout",
          "text": [
            "Accuracy on test data :  0.967713004484305\n"
          ]
        }
      ]
    },
    {
      "cell_type": "markdown",
      "metadata": {
        "id": "bXdOKxYAXaHC"
      },
      "source": [
        "Building a Predictive System"
      ]
    },
    {
      "cell_type": "code",
      "metadata": {
        "colab": {
          "base_uri": "https://localhost:8080/"
        },
        "id": "h60z1__mWql6",
        "outputId": "0f35a8d4-688b-41ac-8734-c7a9f1937321"
      },
      "source": [
        "input_mail = [\"Thanks for your subscription to Ringtone UK your mobile will be charged Â£5/month Please confirm by replying YES or NO. If you reply NO you will not be charged\"]\n",
        "\n",
        "# convert text to feature vectors\n",
        "input_data_features = feature_extraction.transform(input_mail)\n",
        "\n",
        "# making prediction\n",
        "\n",
        "prediction = model.predict(input_data_features)\n",
        "print(prediction)\n",
        "\n",
        "\n",
        "if (prediction[0]==1):\n",
        "  print('Ham mail')\n",
        "\n",
        "else:\n",
        "  print('Spam mail')"
      ],
      "execution_count": 76,
      "outputs": [
        {
          "output_type": "stream",
          "name": "stdout",
          "text": [
            "[0]\n",
            "Spam mail\n"
          ]
        }
      ]
    },
    {
      "cell_type": "code",
      "metadata": {
        "id": "v_LqbM_ZYwS1"
      },
      "source": [],
      "execution_count": 69,
      "outputs": []
    }
  ]
}