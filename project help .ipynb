{
 "cells": [
  {
   "cell_type": "code",
   "execution_count": 18,
   "metadata": {
    "colab": {
     "base_uri": "https://localhost:8080/",
     "height": 81
    },
    "id": "if2tOfvh9NEr",
    "outputId": "5cf26e39-06b3-4293-838d-8ea2d1471947"
   },
   "outputs": [
    {
     "data": {
      "text/html": [
       "<div>\n",
       "<style scoped>\n",
       "    .dataframe tbody tr th:only-of-type {\n",
       "        vertical-align: middle;\n",
       "    }\n",
       "\n",
       "    .dataframe tbody tr th {\n",
       "        vertical-align: top;\n",
       "    }\n",
       "\n",
       "    .dataframe thead th {\n",
       "        text-align: right;\n",
       "    }\n",
       "</style>\n",
       "<table border=\"1\" class=\"dataframe\">\n",
       "  <thead>\n",
       "    <tr style=\"text-align: right;\">\n",
       "      <th></th>\n",
       "      <th>followerCount</th>\n",
       "      <th>followingUsersCount</th>\n",
       "      <th>dismissingUsersCount</th>\n",
       "    </tr>\n",
       "  </thead>\n",
       "  <tbody>\n",
       "    <tr>\n",
       "      <th>0</th>\n",
       "      <td>10</td>\n",
       "      <td>2</td>\n",
       "      <td>0</td>\n",
       "    </tr>\n",
       "  </tbody>\n",
       "</table>\n",
       "</div>"
      ],
      "text/plain": [
       "   followerCount  followingUsersCount  dismissingUsersCount\n",
       "0             10                    2                     0"
      ]
     },
     "execution_count": 18,
     "metadata": {},
     "output_type": "execute_result"
    }
   ],
   "source": [
    "import numpy as np\n",
    "import pandas as pd\n",
    "from pandas import DataFrame\n",
    "# import json\n",
    "# import csv\n",
    "with open (\"/content/Follow.json\") as file:\n",
    "  data = json.loads(file.read())\n",
    "follow=pd.json_normalize(data)\n",
    "follow\n",
    "df1=pd.DataFrame(follow)\n",
    "df1\n",
    "\n",
    "\n"
   ]
  },
  {
   "cell_type": "code",
   "execution_count": 19,
   "metadata": {
    "colab": {
     "base_uri": "https://localhost:8080/",
     "height": 81
    },
    "id": "2_sfJPWODK_7",
    "outputId": "e93f046d-8581-414d-dccf-32e7f6c76792"
   },
   "outputs": [
    {
     "data": {
      "text/html": [
       "<div>\n",
       "<style scoped>\n",
       "    .dataframe tbody tr th:only-of-type {\n",
       "        vertical-align: middle;\n",
       "    }\n",
       "\n",
       "    .dataframe tbody tr th {\n",
       "        vertical-align: top;\n",
       "    }\n",
       "\n",
       "    .dataframe thead th {\n",
       "        text-align: right;\n",
       "    }\n",
       "</style>\n",
       "<table border=\"1\" class=\"dataframe\">\n",
       "  <thead>\n",
       "    <tr style=\"text-align: right;\">\n",
       "      <th></th>\n",
       "      <th>identifierType</th>\n",
       "      <th>identifierValue</th>\n",
       "    </tr>\n",
       "  </thead>\n",
       "  <tbody>\n",
       "    <tr>\n",
       "      <th>0</th>\n",
       "      <td>email</td>\n",
       "      <td>rajpurkhampur11@gmail.com</td>\n",
       "    </tr>\n",
       "  </tbody>\n",
       "</table>\n",
       "</div>"
      ],
      "text/plain": [
       "  identifierType            identifierValue\n",
       "0          email  rajpurkhampur11@gmail.com"
      ]
     },
     "execution_count": 19,
     "metadata": {},
     "output_type": "execute_result"
    }
   ],
   "source": [
    "with open (\"/content/Identifiers.json\") as file:\n",
    "  data = json.loads(file.read())\n",
    "identifiers=pd.json_normalize(data)\n",
    "df2=pd.DataFrame(identifiers)\n",
    "df2"
   ]
  },
  {
   "cell_type": "code",
   "execution_count": 23,
   "metadata": {
    "colab": {
     "base_uri": "https://localhost:8080/",
     "height": 81
    },
    "id": "mvtMLL3gEZj_",
    "outputId": "d28a8bbb-7e66-4f06-bb17-807dcfc169df"
   },
   "outputs": [
    {
     "data": {
      "text/html": [
       "<div>\n",
       "<style scoped>\n",
       "    .dataframe tbody tr th:only-of-type {\n",
       "        vertical-align: middle;\n",
       "    }\n",
       "\n",
       "    .dataframe tbody tr th {\n",
       "        vertical-align: top;\n",
       "    }\n",
       "\n",
       "    .dataframe thead th {\n",
       "        text-align: right;\n",
       "    }\n",
       "</style>\n",
       "<table border=\"1\" class=\"dataframe\">\n",
       "  <thead>\n",
       "    <tr style=\"text-align: right;\">\n",
       "      <th></th>\n",
       "      <th>displayName</th>\n",
       "      <th>firstName</th>\n",
       "      <th>lastName</th>\n",
       "      <th>imageUrl</th>\n",
       "      <th>largeImageUrl</th>\n",
       "      <th>tasteMaker</th>\n",
       "      <th>verified</th>\n",
       "    </tr>\n",
       "  </thead>\n",
       "  <tbody>\n",
       "    <tr>\n",
       "      <th>0</th>\n",
       "      <td>Sawan Bagle</td>\n",
       "      <td>Sawan</td>\n",
       "      <td>Bagle</td>\n",
       "      <td></td>\n",
       "      <td></td>\n",
       "      <td>False</td>\n",
       "      <td>False</td>\n",
       "    </tr>\n",
       "  </tbody>\n",
       "</table>\n",
       "</div>"
      ],
      "text/plain": [
       "   displayName firstName lastName imageUrl largeImageUrl  tasteMaker  verified\n",
       "0  Sawan Bagle     Sawan    Bagle                              False     False"
      ]
     },
     "execution_count": 23,
     "metadata": {},
     "output_type": "execute_result"
    }
   ],
   "source": [
    "with open (\"/content/Identity.json\") as file:\n",
    "  data = json.loads(file.read())\n",
    "identity=pd.json_normalize(data)\n",
    "df3=pd.DataFrame(identity)\n",
    "df3"
   ]
  },
  {
   "cell_type": "code",
   "execution_count": 24,
   "metadata": {
    "colab": {
     "base_uri": "https://localhost:8080/",
     "height": 63
    },
    "id": "-sPmudjUGV5j",
    "outputId": "44dc80a8-273a-46d2-9095-326158cb0fc7"
   },
   "outputs": [
    {
     "data": {
      "text/html": [
       "<div>\n",
       "<style scoped>\n",
       "    .dataframe tbody tr th:only-of-type {\n",
       "        vertical-align: middle;\n",
       "    }\n",
       "\n",
       "    .dataframe tbody tr th {\n",
       "        vertical-align: top;\n",
       "    }\n",
       "\n",
       "    .dataframe thead th {\n",
       "        text-align: right;\n",
       "    }\n",
       "</style>\n",
       "<table border=\"1\" class=\"dataframe\">\n",
       "  <thead>\n",
       "    <tr style=\"text-align: right;\">\n",
       "      <th></th>\n",
       "    </tr>\n",
       "  </thead>\n",
       "  <tbody>\n",
       "    <tr>\n",
       "      <th>0</th>\n",
       "    </tr>\n",
       "  </tbody>\n",
       "</table>\n",
       "</div>"
      ],
      "text/plain": [
       "Empty DataFrame\n",
       "Columns: []\n",
       "Index: [0]"
      ]
     },
     "execution_count": 24,
     "metadata": {},
     "output_type": "execute_result"
    }
   ],
   "source": [
    "with open (\"/content/Payments.json\") as file:\n",
    "  data = json.loads(file.read())\n",
    "payments=pd.json_normalize(data)\n",
    "df5=pd.DataFrame(payments)\n",
    "df5"
   ]
  },
  {
   "cell_type": "code",
   "execution_count": 26,
   "metadata": {
    "colab": {
     "base_uri": "https://localhost:8080/",
     "height": 423
    },
    "id": "xoTQqaTeGlYW",
    "outputId": "48947776-9ae8-43b8-a8e4-e60000a56915"
   },
   "outputs": [
    {
     "data": {
      "text/html": [
       "<div>\n",
       "<style scoped>\n",
       "    .dataframe tbody tr th:only-of-type {\n",
       "        vertical-align: middle;\n",
       "    }\n",
       "\n",
       "    .dataframe tbody tr th {\n",
       "        vertical-align: top;\n",
       "    }\n",
       "\n",
       "    .dataframe thead th {\n",
       "        text-align: right;\n",
       "    }\n",
       "</style>\n",
       "<table border=\"1\" class=\"dataframe\">\n",
       "  <thead>\n",
       "    <tr style=\"text-align: right;\">\n",
       "      <th></th>\n",
       "      <th>endTime</th>\n",
       "      <th>artistName</th>\n",
       "      <th>trackName</th>\n",
       "      <th>msPlayed</th>\n",
       "    </tr>\n",
       "  </thead>\n",
       "  <tbody>\n",
       "    <tr>\n",
       "      <th>0</th>\n",
       "      <td>2021-09-25 14:20</td>\n",
       "      <td>Arijit Singh</td>\n",
       "      <td>Thode Kam Ajnabi</td>\n",
       "      <td>298549</td>\n",
       "    </tr>\n",
       "    <tr>\n",
       "      <th>1</th>\n",
       "      <td>2021-04-13 10:18</td>\n",
       "      <td>Arijit Singh</td>\n",
       "      <td>Thode Kam Ajnabi</td>\n",
       "      <td>8427</td>\n",
       "    </tr>\n",
       "    <tr>\n",
       "      <th>2</th>\n",
       "      <td>2021-04-13 17:45</td>\n",
       "      <td>KK</td>\n",
       "      <td>Ding Dong</td>\n",
       "      <td>261413</td>\n",
       "    </tr>\n",
       "    <tr>\n",
       "      <th>3</th>\n",
       "      <td>2021-04-13 18:22</td>\n",
       "      <td>Shreya Ghoshal</td>\n",
       "      <td>Teri In Aadaon Ne</td>\n",
       "      <td>12062</td>\n",
       "    </tr>\n",
       "    <tr>\n",
       "      <th>4</th>\n",
       "      <td>2021-04-13 18:22</td>\n",
       "      <td>KK</td>\n",
       "      <td>Ding Dong</td>\n",
       "      <td>145255</td>\n",
       "    </tr>\n",
       "    <tr>\n",
       "      <th>...</th>\n",
       "      <td>...</td>\n",
       "      <td>...</td>\n",
       "      <td>...</td>\n",
       "      <td>...</td>\n",
       "    </tr>\n",
       "    <tr>\n",
       "      <th>73</th>\n",
       "      <td>2021-09-27 20:42</td>\n",
       "      <td>Agam Kumar Nigam</td>\n",
       "      <td>Ishq Na Karna Ishq Na Karna</td>\n",
       "      <td>335040</td>\n",
       "    </tr>\n",
       "    <tr>\n",
       "      <th>74</th>\n",
       "      <td>2021-09-27 20:46</td>\n",
       "      <td>Anuradha Paudwal</td>\n",
       "      <td>Bedardi Se Pyar Ka Sahara Na Mila</td>\n",
       "      <td>236216</td>\n",
       "    </tr>\n",
       "    <tr>\n",
       "      <th>75</th>\n",
       "      <td>2021-09-27 20:52</td>\n",
       "      <td>Abhijeet</td>\n",
       "      <td>Aitbaar Nahi Karna</td>\n",
       "      <td>277773</td>\n",
       "    </tr>\n",
       "    <tr>\n",
       "      <th>76</th>\n",
       "      <td>2021-09-27 20:57</td>\n",
       "      <td>Satyajeet Jena</td>\n",
       "      <td>Pehli Dafa</td>\n",
       "      <td>319619</td>\n",
       "    </tr>\n",
       "    <tr>\n",
       "      <th>77</th>\n",
       "      <td>2021-09-27 21:03</td>\n",
       "      <td>Pritam</td>\n",
       "      <td>Tum Mile - Love Reprise</td>\n",
       "      <td>303320</td>\n",
       "    </tr>\n",
       "  </tbody>\n",
       "</table>\n",
       "<p>78 rows × 4 columns</p>\n",
       "</div>"
      ],
      "text/plain": [
       "             endTime  ... msPlayed\n",
       "0   2021-09-25 14:20  ...   298549\n",
       "1   2021-04-13 10:18  ...     8427\n",
       "2   2021-04-13 17:45  ...   261413\n",
       "3   2021-04-13 18:22  ...    12062\n",
       "4   2021-04-13 18:22  ...   145255\n",
       "..               ...  ...      ...\n",
       "73  2021-09-27 20:42  ...   335040\n",
       "74  2021-09-27 20:46  ...   236216\n",
       "75  2021-09-27 20:52  ...   277773\n",
       "76  2021-09-27 20:57  ...   319619\n",
       "77  2021-09-27 21:03  ...   303320\n",
       "\n",
       "[78 rows x 4 columns]"
      ]
     },
     "execution_count": 26,
     "metadata": {},
     "output_type": "execute_result"
    }
   ],
   "source": [
    "with open (\"/content/StreamingHistory0.json\") as file:\n",
    "  data = json.loads(file.read())\n",
    "history=pd.json_normalize(data)\n",
    "df6=pd.DataFrame(history)\n",
    "df6"
   ]
  },
  {
   "cell_type": "code",
   "execution_count": 27,
   "metadata": {
    "colab": {
     "base_uri": "https://localhost:8080/",
     "height": 118
    },
    "id": "e0M6VRVjG4gy",
    "outputId": "5b65b52d-962b-404d-adc3-c6bdb28e8453"
   },
   "outputs": [
    {
     "data": {
      "text/html": [
       "<div>\n",
       "<style scoped>\n",
       "    .dataframe tbody tr th:only-of-type {\n",
       "        vertical-align: middle;\n",
       "    }\n",
       "\n",
       "    .dataframe tbody tr th {\n",
       "        vertical-align: top;\n",
       "    }\n",
       "\n",
       "    .dataframe thead th {\n",
       "        text-align: right;\n",
       "    }\n",
       "</style>\n",
       "<table border=\"1\" class=\"dataframe\">\n",
       "  <thead>\n",
       "    <tr style=\"text-align: right;\">\n",
       "      <th></th>\n",
       "      <th>username</th>\n",
       "      <th>email</th>\n",
       "      <th>country</th>\n",
       "      <th>createdFromFacebook</th>\n",
       "      <th>facebookUid</th>\n",
       "      <th>birthdate</th>\n",
       "      <th>gender</th>\n",
       "      <th>postalCode</th>\n",
       "      <th>mobileNumber</th>\n",
       "      <th>mobileOperator</th>\n",
       "      <th>mobileBrand</th>\n",
       "      <th>creationTime</th>\n",
       "    </tr>\n",
       "  </thead>\n",
       "  <tbody>\n",
       "    <tr>\n",
       "      <th>0</th>\n",
       "      <td>31en2zr6b7rtr4q75xqskkrhx4ni</td>\n",
       "      <td>rajpurkhampur11@gmail.com</td>\n",
       "      <td>IN</td>\n",
       "      <td>True</td>\n",
       "      <td>1052188035320001</td>\n",
       "      <td>2002-04-19</td>\n",
       "      <td>male</td>\n",
       "      <td>None</td>\n",
       "      <td>None</td>\n",
       "      <td>None</td>\n",
       "      <td>None</td>\n",
       "      <td>2021-05-25</td>\n",
       "    </tr>\n",
       "  </tbody>\n",
       "</table>\n",
       "</div>"
      ],
      "text/plain": [
       "                       username  ... creationTime\n",
       "0  31en2zr6b7rtr4q75xqskkrhx4ni  ...   2021-05-25\n",
       "\n",
       "[1 rows x 12 columns]"
      ]
     },
     "execution_count": 27,
     "metadata": {},
     "output_type": "execute_result"
    }
   ],
   "source": [
    "with open (\"/content/Userdata.json\") as file:\n",
    "  data = json.loads(file.read())\n",
    "user=pd.json_normalize(data)\n",
    "df7=pd.DataFrame(user)\n",
    "df7"
   ]
  },
  {
   "cell_type": "code",
   "execution_count": 28,
   "metadata": {
    "colab": {
     "base_uri": "https://localhost:8080/",
     "height": 98
    },
    "id": "yUyqQvQkHBzC",
    "outputId": "473b9328-6ac3-471f-a7f0-593607605ee4"
   },
   "outputs": [
    {
     "data": {
      "text/html": [
       "<div>\n",
       "<style scoped>\n",
       "    .dataframe tbody tr th:only-of-type {\n",
       "        vertical-align: middle;\n",
       "    }\n",
       "\n",
       "    .dataframe tbody tr th {\n",
       "        vertical-align: top;\n",
       "    }\n",
       "\n",
       "    .dataframe thead th {\n",
       "        text-align: right;\n",
       "    }\n",
       "</style>\n",
       "<table border=\"1\" class=\"dataframe\">\n",
       "  <thead>\n",
       "    <tr style=\"text-align: right;\">\n",
       "      <th></th>\n",
       "      <th>tracks</th>\n",
       "      <th>albums</th>\n",
       "      <th>shows</th>\n",
       "      <th>episodes</th>\n",
       "      <th>bannedTracks</th>\n",
       "      <th>artists</th>\n",
       "      <th>bannedArtists</th>\n",
       "      <th>other</th>\n",
       "    </tr>\n",
       "  </thead>\n",
       "  <tbody>\n",
       "    <tr>\n",
       "      <th>0</th>\n",
       "      <td>[{'artist': 'Akull', 'album': 'Bahana', 'track...</td>\n",
       "      <td>[]</td>\n",
       "      <td>[]</td>\n",
       "      <td>[]</td>\n",
       "      <td>[]</td>\n",
       "      <td>[{'name': 'Amit Trivedi', 'uri': 'spotify:arti...</td>\n",
       "      <td>[]</td>\n",
       "      <td>[]</td>\n",
       "    </tr>\n",
       "  </tbody>\n",
       "</table>\n",
       "</div>"
      ],
      "text/plain": [
       "                                              tracks albums  ... bannedArtists other\n",
       "0  [{'artist': 'Akull', 'album': 'Bahana', 'track...     []  ...            []    []\n",
       "\n",
       "[1 rows x 8 columns]"
      ]
     },
     "execution_count": 28,
     "metadata": {},
     "output_type": "execute_result"
    }
   ],
   "source": [
    "with open (\"/content/YourLibrary.json\") as file:\n",
    "  data = json.loads(file.read())\n",
    "library=pd.json_normalize(data)\n",
    "df8=pd.DataFrame(library)\n",
    "df8"
   ]
  }
 ],
 "metadata": {
  "colab": {
   "collapsed_sections": [],
   "name": "Untitled8.ipynb",
   "provenance": []
  },
  "kernelspec": {
   "display_name": "Python 3",
   "language": "python",
   "name": "python3"
  },
  "language_info": {
   "codemirror_mode": {
    "name": "ipython",
    "version": 3
   },
   "file_extension": ".py",
   "mimetype": "text/x-python",
   "name": "python",
   "nbconvert_exporter": "python",
   "pygments_lexer": "ipython3",
   "version": "3.8.5"
  }
 },
 "nbformat": 4,
 "nbformat_minor": 1
}
